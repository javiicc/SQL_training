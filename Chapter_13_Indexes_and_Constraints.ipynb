{
 "cells": [
  {
   "cell_type": "code",
   "execution_count": 8,
   "id": "d24a2a6f-cee1-4aab-a97b-56572a978571",
   "metadata": {},
   "outputs": [],
   "source": [
    "import pandas as pd\n",
    "import pymysql"
   ]
  },
  {
   "cell_type": "code",
   "execution_count": 9,
   "id": "49890ecd-a8d0-4e9a-9d77-20b244b64a4e",
   "metadata": {},
   "outputs": [
    {
     "name": "stdout",
     "output_type": "stream",
     "text": [
      "Connection established:\n",
      " <pymysql.connections.Connection object at 0x7f9e198952e0>\n"
     ]
    }
   ],
   "source": [
    "# Database connection\n",
    "try:\n",
    "    conn = pymysql.connect(\n",
    "        host='localhost',\n",
    "        user='newuser',\n",
    "        passwd='password',\n",
    "        db='sakila'\n",
    "    )\n",
    "    print('Connection established:\\n', conn)\n",
    "except (pymysql.err.OperationalError, pymysql.err.InternalError) as e:\n",
    "    print(\"Ocurrió un error al conectar: \", e)"
   ]
  },
  {
   "cell_type": "markdown",
   "id": "7a8315a1-e2c2-4134-97db-ee711f09e497",
   "metadata": {
    "tags": []
   },
   "source": [
    "## Exercise 13-1"
   ]
  },
  {
   "cell_type": "markdown",
   "id": "1b7b5bd7-f0e3-4422-b8d7-52adefc48156",
   "metadata": {},
   "source": [
    "```SQL\n",
    "ALTER TABLE rental \n",
    "ADD CONSTRAINT fk_rental_customer_id FOREIGN KEY (customer_id) \n",
    "REFERENCES customer (customer_id) ON DELETE RESTRICT;\n",
    "```"
   ]
  },
  {
   "cell_type": "markdown",
   "id": "a1d1c1de-dbd6-4476-98d7-429f2a66e41e",
   "metadata": {
    "tags": []
   },
   "source": [
    "## Exercise 13-2"
   ]
  },
  {
   "cell_type": "markdown",
   "id": "8dfb9540-2191-42cf-9ba2-8fe9763a1cca",
   "metadata": {},
   "source": [
    "```SQL\n",
    "CREATE INDEX idx_payment01 \\\n",
    "ON payment (payment_date, amount);\n",
    "```"
   ]
  },
  {
   "cell_type": "code",
   "execution_count": null,
   "id": "4ce96b16-8a9a-46c4-96f2-59766bcbfa96",
   "metadata": {},
   "outputs": [],
   "source": []
  }
 ],
 "metadata": {
  "kernelspec": {
   "display_name": "Python 3 (ipykernel)",
   "language": "python",
   "name": "python3"
  },
  "language_info": {
   "codemirror_mode": {
    "name": "ipython",
    "version": 3
   },
   "file_extension": ".py",
   "mimetype": "text/x-python",
   "name": "python",
   "nbconvert_exporter": "python",
   "pygments_lexer": "ipython3",
   "version": "3.9.7"
  }
 },
 "nbformat": 4,
 "nbformat_minor": 5
}
