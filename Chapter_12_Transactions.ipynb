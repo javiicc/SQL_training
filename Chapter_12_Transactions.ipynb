{
 "cells": [
  {
   "cell_type": "code",
   "execution_count": 1,
   "id": "c7e9ae39-0fcd-41f8-9a7e-bf1557ce7527",
   "metadata": {},
   "outputs": [],
   "source": [
    "import pandas as pd\n",
    "import pymysql"
   ]
  },
  {
   "cell_type": "code",
   "execution_count": 2,
   "id": "ed681792-f27e-4f7c-9511-27f57050c294",
   "metadata": {},
   "outputs": [
    {
     "name": "stdout",
     "output_type": "stream",
     "text": [
      "Connection established:\n",
      " <pymysql.connections.Connection object at 0x7fdc357c9af0>\n"
     ]
    }
   ],
   "source": [
    "# Database connection\n",
    "try:\n",
    "    conn = pymysql.connect(\n",
    "        host='localhost',\n",
    "        user='newuser',\n",
    "        passwd='password',\n",
    "        db='sakila'\n",
    "    )\n",
    "    print('Connection established:\\n', conn)\n",
    "except (pymysql.err.OperationalError, pymysql.err.InternalError) as e:\n",
    "    print(\"Ocurrió un error al conectar: \", e)"
   ]
  },
  {
   "cell_type": "markdown",
   "id": "b0d3afd2-d74f-4253-aebb-1f90c8d52bed",
   "metadata": {
    "tags": []
   },
   "source": [
    "## Exercise 12-1"
   ]
  },
  {
   "cell_type": "markdown",
   "id": "937e3e79-a4bd-44f7-8f26-1d72ac70cc43",
   "metadata": {},
   "source": [
    "```SQL\n",
    "START TRANSACTION; \n",
    "\n",
    "INSERT INTO transaction \n",
    " (txn_id, txn_date, account_id, txn_type_cd, amount) \n",
    "VALUES \n",
    " (1003, now(), 123, 'D', 50); \n",
    "\n",
    "INSERT INTO transaction \n",
    " (txn_id, txn_date, account_id, txn_type_cd, amount) \n",
    "VALUES \n",
    " (1004, now(), 789, 'C', 50); \n",
    "\n",
    "UPDATE account \n",
    "SET avail_balance = available_balance - 50, \n",
    "  last_activity_date = now()\n",
    "WHERE account_id = 123;\n",
    "  \n",
    "UPDATE account\n",
    "SET avail_balance = available_balance + 50\n",
    "  last_activity_date = now()\n",
    "WHERE account_id = 789;\n",
    "```"
   ]
  },
  {
   "cell_type": "code",
   "execution_count": null,
   "id": "68f2cc24-8178-41d1-9a6f-6865fc84bcd3",
   "metadata": {},
   "outputs": [],
   "source": []
  }
 ],
 "metadata": {
  "kernelspec": {
   "display_name": "Python 3 (ipykernel)",
   "language": "python",
   "name": "python3"
  },
  "language_info": {
   "codemirror_mode": {
    "name": "ipython",
    "version": 3
   },
   "file_extension": ".py",
   "mimetype": "text/x-python",
   "name": "python",
   "nbconvert_exporter": "python",
   "pygments_lexer": "ipython3",
   "version": "3.9.7"
  }
 },
 "nbformat": 4,
 "nbformat_minor": 5
}
