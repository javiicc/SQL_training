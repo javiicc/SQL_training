{
 "cells": [
  {
   "cell_type": "code",
   "execution_count": 1,
   "id": "19132c46-1c5d-449e-852d-ccab4439754e",
   "metadata": {},
   "outputs": [],
   "source": [
    "import pandas as pd\n",
    "import pymysql"
   ]
  },
  {
   "cell_type": "code",
   "execution_count": 2,
   "id": "70c23867-3114-464e-8bab-8f928b1eedf6",
   "metadata": {},
   "outputs": [
    {
     "name": "stdout",
     "output_type": "stream",
     "text": [
      "Connection established:\n",
      " <pymysql.connections.Connection object at 0x7f84df1b2b50>\n"
     ]
    }
   ],
   "source": [
    "# Database connection\n",
    "try:\n",
    "    conn = pymysql.connect(\n",
    "        host='localhost',\n",
    "        user='newuser',\n",
    "        passwd='password',\n",
    "        db='sakila'\n",
    "    )\n",
    "    print('Connection established:\\n', conn)\n",
    "except (pymysql.err.OperationalError, pymysql.err.InternalError) as e:\n",
    "    print(\"Ocurrió un error al conectar: \", e)"
   ]
  },
  {
   "cell_type": "markdown",
   "id": "3a6da297-1589-4aa4-9e62-5cf2e4b52150",
   "metadata": {},
   "source": [
    "## Exercise 7-1"
   ]
  },
  {
   "cell_type": "code",
   "execution_count": 3,
   "id": "6d4da5b9-7209-4e23-8427-f260b2dc97e2",
   "metadata": {},
   "outputs": [
    {
     "data": {
      "text/html": [
       "<div>\n",
       "<style scoped>\n",
       "    .dataframe tbody tr th:only-of-type {\n",
       "        vertical-align: middle;\n",
       "    }\n",
       "\n",
       "    .dataframe tbody tr th {\n",
       "        vertical-align: top;\n",
       "    }\n",
       "\n",
       "    .dataframe thead th {\n",
       "        text-align: right;\n",
       "    }\n",
       "</style>\n",
       "<table border=\"1\" class=\"dataframe\">\n",
       "  <thead>\n",
       "    <tr style=\"text-align: right;\">\n",
       "      <th></th>\n",
       "      <th>SUBSTRING('Please find the substring in this string', 17, 25)</th>\n",
       "    </tr>\n",
       "  </thead>\n",
       "  <tbody>\n",
       "    <tr>\n",
       "      <th>0</th>\n",
       "      <td>substring in this string</td>\n",
       "    </tr>\n",
       "  </tbody>\n",
       "</table>\n",
       "</div>"
      ],
      "text/plain": [
       "  SUBSTRING('Please find the substring in this string', 17, 25)\n",
       "0                           substring in this string           "
      ]
     },
     "execution_count": 3,
     "metadata": {},
     "output_type": "execute_result"
    }
   ],
   "source": [
    "pd.read_sql_query(\n",
    "    \"SELECT SUBSTRING('Please find the substring in this string', 17, 25);\", \n",
    "    conn)"
   ]
  },
  {
   "cell_type": "markdown",
   "id": "c31ffa7e-bc31-4992-9fbc-39c1c96c2384",
   "metadata": {},
   "source": [
    "## Exercise 7-2"
   ]
  },
  {
   "cell_type": "code",
   "execution_count": 4,
   "id": "e7582f77-1a05-41de-a798-5a8d0d9c4b5e",
   "metadata": {},
   "outputs": [
    {
     "data": {
      "text/html": [
       "<div>\n",
       "<style scoped>\n",
       "    .dataframe tbody tr th:only-of-type {\n",
       "        vertical-align: middle;\n",
       "    }\n",
       "\n",
       "    .dataframe tbody tr th {\n",
       "        vertical-align: top;\n",
       "    }\n",
       "\n",
       "    .dataframe thead th {\n",
       "        text-align: right;\n",
       "    }\n",
       "</style>\n",
       "<table border=\"1\" class=\"dataframe\">\n",
       "  <thead>\n",
       "    <tr style=\"text-align: right;\">\n",
       "      <th></th>\n",
       "      <th>ABS(-25.76823)</th>\n",
       "      <th>SIGN(-25.76823)</th>\n",
       "      <th>ROUND(-25.76823, 2)</th>\n",
       "    </tr>\n",
       "  </thead>\n",
       "  <tbody>\n",
       "    <tr>\n",
       "      <th>0</th>\n",
       "      <td>25.76823</td>\n",
       "      <td>-1</td>\n",
       "      <td>-25.77</td>\n",
       "    </tr>\n",
       "  </tbody>\n",
       "</table>\n",
       "</div>"
      ],
      "text/plain": [
       "   ABS(-25.76823)  SIGN(-25.76823)  ROUND(-25.76823, 2)\n",
       "0        25.76823               -1               -25.77"
      ]
     },
     "execution_count": 4,
     "metadata": {},
     "output_type": "execute_result"
    }
   ],
   "source": [
    "pd.read_sql_query(\n",
    "    \"SELECT ABS(-25.76823), SIGN(-25.76823), ROUND(-25.76823, 2)\", \n",
    "    conn)"
   ]
  },
  {
   "cell_type": "markdown",
   "id": "728cd27f-9488-44d8-8630-d3edde45a591",
   "metadata": {},
   "source": [
    "## Exercise 7-3"
   ]
  },
  {
   "cell_type": "code",
   "execution_count": 5,
   "id": "7871f3e3-4a0a-4dcf-b759-c39397c9828a",
   "metadata": {},
   "outputs": [
    {
     "data": {
      "text/html": [
       "<div>\n",
       "<style scoped>\n",
       "    .dataframe tbody tr th:only-of-type {\n",
       "        vertical-align: middle;\n",
       "    }\n",
       "\n",
       "    .dataframe tbody tr th {\n",
       "        vertical-align: top;\n",
       "    }\n",
       "\n",
       "    .dataframe thead th {\n",
       "        text-align: right;\n",
       "    }\n",
       "</style>\n",
       "<table border=\"1\" class=\"dataframe\">\n",
       "  <thead>\n",
       "    <tr style=\"text-align: right;\">\n",
       "      <th></th>\n",
       "      <th>EXTRACT(MONTH FROM CURRENT_DATE())</th>\n",
       "    </tr>\n",
       "  </thead>\n",
       "  <tbody>\n",
       "    <tr>\n",
       "      <th>0</th>\n",
       "      <td>5</td>\n",
       "    </tr>\n",
       "  </tbody>\n",
       "</table>\n",
       "</div>"
      ],
      "text/plain": [
       "   EXTRACT(MONTH FROM CURRENT_DATE())\n",
       "0                                   5"
      ]
     },
     "execution_count": 5,
     "metadata": {},
     "output_type": "execute_result"
    }
   ],
   "source": [
    "pd.read_sql_query(\n",
    "    \"SELECT EXTRACT(MONTH FROM CURRENT_DATE())\", \n",
    "    conn)"
   ]
  }
 ],
 "metadata": {
  "kernelspec": {
   "display_name": "Python 3 (ipykernel)",
   "language": "python",
   "name": "python3"
  },
  "language_info": {
   "codemirror_mode": {
    "name": "ipython",
    "version": 3
   },
   "file_extension": ".py",
   "mimetype": "text/x-python",
   "name": "python",
   "nbconvert_exporter": "python",
   "pygments_lexer": "ipython3",
   "version": "3.9.7"
  }
 },
 "nbformat": 4,
 "nbformat_minor": 5
}
