{
 "cells": [
  {
   "cell_type": "code",
   "execution_count": 1,
   "id": "7ae4297d-defc-4c19-9c7a-5bebfc15afbb",
   "metadata": {},
   "outputs": [],
   "source": [
    "import pandas as pd\n",
    "import pymysql"
   ]
  },
  {
   "cell_type": "code",
   "execution_count": 2,
   "id": "bfa7d16b-96d6-4e8a-b6d6-0f3eda2fb9e1",
   "metadata": {},
   "outputs": [
    {
     "name": "stdout",
     "output_type": "stream",
     "text": [
      "Connection established:\n",
      " <pymysql.connections.Connection object at 0x7f6035e65ac0>\n"
     ]
    }
   ],
   "source": [
    "# Database connection\n",
    "try:\n",
    "    conn = pymysql.connect(\n",
    "        host='localhost',\n",
    "        user='newuser',\n",
    "        passwd='password',\n",
    "        db='sakila'\n",
    "    )\n",
    "    print('Connection established:\\n', conn)\n",
    "except (pymysql.err.OperationalError, pymysql.err.InternalError) as e:\n",
    "    print(\"Ocurrió un error al conectar: \", e)"
   ]
  },
  {
   "cell_type": "markdown",
   "id": "18f373fa-5527-4e3a-869c-cf5c92204e5d",
   "metadata": {
    "tags": []
   },
   "source": [
    "## Exercise 11-1"
   ]
  },
  {
   "cell_type": "code",
   "execution_count": 3,
   "id": "9c17282a-ca09-4646-b2f2-ee9b35acda10",
   "metadata": {},
   "outputs": [
    {
     "data": {
      "text/html": [
       "<div>\n",
       "<style scoped>\n",
       "    .dataframe tbody tr th:only-of-type {\n",
       "        vertical-align: middle;\n",
       "    }\n",
       "\n",
       "    .dataframe tbody tr th {\n",
       "        vertical-align: top;\n",
       "    }\n",
       "\n",
       "    .dataframe thead th {\n",
       "        text-align: right;\n",
       "    }\n",
       "</style>\n",
       "<table border=\"1\" class=\"dataframe\">\n",
       "  <thead>\n",
       "    <tr style=\"text-align: right;\">\n",
       "      <th></th>\n",
       "      <th>name</th>\n",
       "      <th>character_set</th>\n",
       "    </tr>\n",
       "  </thead>\n",
       "  <tbody>\n",
       "    <tr>\n",
       "      <th>0</th>\n",
       "      <td>English</td>\n",
       "      <td>latin1</td>\n",
       "    </tr>\n",
       "    <tr>\n",
       "      <th>1</th>\n",
       "      <td>Italian</td>\n",
       "      <td>latin1</td>\n",
       "    </tr>\n",
       "    <tr>\n",
       "      <th>2</th>\n",
       "      <td>Japanese</td>\n",
       "      <td>utf8</td>\n",
       "    </tr>\n",
       "    <tr>\n",
       "      <th>3</th>\n",
       "      <td>Mandarin</td>\n",
       "      <td>utf8</td>\n",
       "    </tr>\n",
       "    <tr>\n",
       "      <th>4</th>\n",
       "      <td>French</td>\n",
       "      <td>latin1</td>\n",
       "    </tr>\n",
       "    <tr>\n",
       "      <th>5</th>\n",
       "      <td>German</td>\n",
       "      <td>latin1</td>\n",
       "    </tr>\n",
       "  </tbody>\n",
       "</table>\n",
       "</div>"
      ],
      "text/plain": [
       "       name character_set\n",
       "0   English        latin1\n",
       "1   Italian        latin1\n",
       "2  Japanese          utf8\n",
       "3  Mandarin          utf8\n",
       "4    French        latin1\n",
       "5    German        latin1"
      ]
     },
     "execution_count": 3,
     "metadata": {},
     "output_type": "execute_result"
    }
   ],
   "source": [
    "pd.read_sql_query(\n",
    "    \"SELECT name, \\\n",
    "       CASE \\\n",
    "         WHEN name IN ('English', 'Italian', 'French', 'German') \\\n",
    "           THEN 'latin1' \\\n",
    "         WHEN name IN ('Japanese', 'Mandarin') \\\n",
    "           THEN 'utf8' \\\n",
    "         ELSE 'Unknown' \\\n",
    "       END character_set \\\n",
    "     FROM language\", \n",
    "    conn)"
   ]
  },
  {
   "cell_type": "markdown",
   "id": "cee5a8f6-7e01-47db-aeda-1b2453f81aa9",
   "metadata": {
    "tags": []
   },
   "source": [
    "## Exercise 11-2"
   ]
  },
  {
   "cell_type": "code",
   "execution_count": 4,
   "id": "cedc6ecb-9ba3-43eb-9743-3bdcef7b480e",
   "metadata": {},
   "outputs": [
    {
     "data": {
      "text/html": [
       "<div>\n",
       "<style scoped>\n",
       "    .dataframe tbody tr th:only-of-type {\n",
       "        vertical-align: middle;\n",
       "    }\n",
       "\n",
       "    .dataframe tbody tr th {\n",
       "        vertical-align: top;\n",
       "    }\n",
       "\n",
       "    .dataframe thead th {\n",
       "        text-align: right;\n",
       "    }\n",
       "</style>\n",
       "<table border=\"1\" class=\"dataframe\">\n",
       "  <thead>\n",
       "    <tr style=\"text-align: right;\">\n",
       "      <th></th>\n",
       "      <th>g</th>\n",
       "      <th>pg</th>\n",
       "      <th>pg_13</th>\n",
       "      <th>r</th>\n",
       "      <th>nc_17</th>\n",
       "    </tr>\n",
       "  </thead>\n",
       "  <tbody>\n",
       "    <tr>\n",
       "      <th>0</th>\n",
       "      <td>178.0</td>\n",
       "      <td>194.0</td>\n",
       "      <td>223.0</td>\n",
       "      <td>195.0</td>\n",
       "      <td>210.0</td>\n",
       "    </tr>\n",
       "  </tbody>\n",
       "</table>\n",
       "</div>"
      ],
      "text/plain": [
       "       g     pg  pg_13      r  nc_17\n",
       "0  178.0  194.0  223.0  195.0  210.0"
      ]
     },
     "execution_count": 4,
     "metadata": {},
     "output_type": "execute_result"
    }
   ],
   "source": [
    "pd.read_sql_query(\n",
    "    \"SELECT \\\n",
    "       sum(CASE WHEN rating = 'G' THEN 1 ELSE 0 END) g, \\\n",
    "       sum(CASE WHEN rating = 'PG' THEN 1 ELSE 0 END) pg, \\\n",
    "       sum(CASE WHEN rating = 'PG-13' THEN 1 ELSE 0 END) pg_13, \\\n",
    "       sum(CASE WHEN rating = 'R' THEN 1 ELSE 0 END) r, \\\n",
    "       sum(CASE WHEN rating = 'NC-17' THEN 1 ELSE 0 END) nc_17 \\\n",
    "     FROM film\", \n",
    "    conn)"
   ]
  },
  {
   "cell_type": "code",
   "execution_count": null,
   "id": "37a33d98-c4f5-4d9c-9e42-8c7b195341a0",
   "metadata": {},
   "outputs": [],
   "source": []
  }
 ],
 "metadata": {
  "kernelspec": {
   "display_name": "Python 3 (ipykernel)",
   "language": "python",
   "name": "python3"
  },
  "language_info": {
   "codemirror_mode": {
    "name": "ipython",
    "version": 3
   },
   "file_extension": ".py",
   "mimetype": "text/x-python",
   "name": "python",
   "nbconvert_exporter": "python",
   "pygments_lexer": "ipython3",
   "version": "3.9.7"
  }
 },
 "nbformat": 4,
 "nbformat_minor": 5
}
